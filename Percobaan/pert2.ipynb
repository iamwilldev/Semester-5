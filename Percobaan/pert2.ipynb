{
 "cells": [
  {
   "cell_type": "markdown",
   "metadata": {},
   "source": [
    "# GUI, QT, dan PYQT6"
   ]
  },
  {
   "cell_type": "markdown",
   "metadata": {},
   "source": [
    "## Pendahuluan"
   ]
  },
  {
   "cell_type": "markdown",
   "metadata": {},
   "source": [
    "*   GUI (Graphical User Interfaces / Antarmuka Pengguna Grafis) adalah Sistem yang memiliki banyak fitur seperti pada GUI desktop modern, termasuk jendela, menu, tombol radio, kotak centang, dan ikon.\n",
    "*   Kombinasi fitur tersebut diistilahkan : WIMP (windows, icon, menu, pointing device - mouse).\n",
    "*   Qt adalah kerangka pengembangan aplikasi lintas platform untuk perangkat desktop, tertanam, dan seluler.\n",
    "*   Platform yang Didukung meliputi Linux, OS X, Windows, VxWorks, QNX, Android, iOS, BlackBerry, Sailfish OS, dan lainnya.\n",
    "*   Qt bukanlah bahasa pemrograman tersendiri. Ini adalah kerangka kerja yang ditulis dalam C++. \n",
    "*   Praprosesor, MOC (Meta-Object Compiler), digunakan untuk memperluas bahasa C++ dengan fitur seperti sinyal dan slot.\n",
    "*   PyQt6 adalah pengikatan Python dari toolkit Qt, yang dikembangkan oleh Riverbank Computing. \n",
    "*   Saat menulis aplikasi menggunakan PyQt6, sama dengan menulis aplikasi di Qt. \n",
    "*   Pustaka PyQt6 adalah pembungkus pustaka C++ Qt, yang memungkinkan untuk menggunakannya dengan Python."
   ]
  },
  {
   "cell_type": "markdown",
   "metadata": {},
   "source": [
    "## Fitur Dasar PyQt6 - Aplikasi Pertama"
   ]
  },
  {
   "cell_type": "code",
   "execution_count": null,
   "metadata": {},
   "outputs": [],
   "source": [
    "from PyQt6.QtWidgets import QApplication, QWidget\n",
    "import sys\n",
    "\n",
    "app = QApplication(sys.argv)\n",
    "window = QWidget()\n",
    "window.show()\n",
    "sys.exit(app.exec())"
   ]
  },
  {
   "cell_type": "markdown",
   "metadata": {},
   "source": [
    "### QMainWindow"
   ]
  },
  {
   "cell_type": "markdown",
   "metadata": {},
   "source": [
    "*   Pada Qt widget apa pun bisa berupa windows. \n",
    "*   Misalnya, jika Anda mengganti QtWidget dengan QPushButton. \n",
    "*   Pada contoh berikut, Kita akan mendapatkan jendela dengan satu tombol yang dapat ditekan di dalamnya"
   ]
  },
  {
   "cell_type": "code",
   "execution_count": 1,
   "metadata": {},
   "outputs": [],
   "source": [
    "import sys \n",
    "from PyQt6.QtWidgets import QApplication, QPushButton\n",
    "\n",
    "app = QApplication(sys.argv)\n",
    "window = QPushButton(\"Tekan Saya\")\n",
    "window.show()\n",
    "app.exec()\n",
    "sys.exit(app.exec())"
   ]
  },
  {
   "cell_type": "markdown",
   "metadata": {},
   "source": [
    "*   QMainWindow. adalah widget siap pakai yang menyediakan banyak fitur jendela standar yang akan kita gunakan di aplikasi kita, termasuk toolbar, menu, statusbar, widget yang dapat dipasang ke dok, dan banyak lagi.\n"
   ]
  },
  {
   "cell_type": "code",
   "execution_count": 1,
   "metadata": {},
   "outputs": [],
   "source": [
    "import sys\n",
    "from PyQt6.QtCore import QSize, Qt\n",
    "from PyQt6.QtWidgets import(\n",
    "    QApplication,\n",
    "    QMainWindow,\n",
    "    QPushButton,\n",
    ")\n",
    "\n",
    "# Subclass QMainWindow to customize your application's main window\n",
    "class MainWindow(QMainWindow):\n",
    "    def __init__(self):\n",
    "        super().__init__()\n",
    "        self.setWindowTitle(\"My App\")\n",
    "        \n",
    "        button = QPushButton(\"Tekan Saya!\")\n",
    "        self.setCentralWidget(button)\n",
    "app = QApplication(sys.argv)\n",
    "window = MainWindow()\n",
    "window.show()\n",
    "app.exec()\n",
    "sys.exit(app.exec())"
   ]
  },
  {
   "cell_type": "markdown",
   "metadata": {},
   "source": [
    "*   Dalam Qt, ukuran ditentukan menggunakan objek QSize. \n",
    "*   Object tersebut menerima parameter lebar dan tinggi.\n",
    "*   Misalnya, berikut ini akan membuat jendela berukuran tetap 400x300 piksel.\n"
   ]
  },
  {
   "cell_type": "code",
   "execution_count": 1,
   "metadata": {},
   "outputs": [],
   "source": [
    "import sys\n",
    "from PyQt6.QtCore import QSize, Qt\n",
    "from PyQt6.QtWidgets import(\n",
    "    QApplication,\n",
    "    QMainWindow,\n",
    "    QPushButton,\n",
    ")\n",
    "\n",
    "# Subclass QMainWindow to customize your application's main window\n",
    "class MainWindow(QMainWindow):\n",
    "    def __init__(self):\n",
    "        super().__init__()\n",
    "        self.setWindowTitle(\"My App\")\n",
    "        \n",
    "        button = QPushButton(\"Tekan Saya!\")\n",
    "        self.setFixedSize(QSize(400, 300))\n",
    "        self.setCentralWidget(button)\n",
    "app = QApplication(sys.argv)\n",
    "window = MainWindow()\n",
    "window.show()\n",
    "app.exec()\n",
    "sys.exit(app.exec())"
   ]
  },
  {
   "cell_type": "markdown",
   "metadata": {},
   "source": [
    "### Signals & Slots"
   ]
  },
  {
   "cell_type": "markdown",
   "metadata": {},
   "source": [
    "*   Sinyal adalah notifikasi yang dikeluarkan oleh widget ketika terjadi sesuatu. Sesuatu itu bisa berupa apa saja, mulai dari menekan tombol, mengubah teks kotak input, hingga mengubah teks jendela. \n",
    "*   Banyak sinyal yang dipicu oleh tindakan pengguna, namun hal ini bukanlah suatu aturan.\n",
    "*   Selain memberi tahu tentang sesuatu yang terjadi, sinyal juga dapat mengirimkan data untuk memberikan konteks tambahan tentang apa yang terjadi.\n",
    "*   Slot adalah nama yang digunakan Qt untuk penerima sinyal. ●Dalam Python, fungsi (atau metode) apa pun dalam aplikasi kita dapat digunakan sebagai slot hanya dengan menghubungkan sinyal ke slot tersebut.\n",
    "*   Jika sinyal mengirimkan data, maka fungsi penerima akan menerima data tersebut. \n",
    "*   Banyak widget Qt juga memiliki slot bawaannya sendiri, artinya kita dapat menghubungkan widget Qt secara langsung.\n",
    "\n"
   ]
  },
  {
   "cell_type": "markdown",
   "metadata": {},
   "source": [
    "#### Sinyal QPushButton"
   ]
  },
  {
   "cell_type": "code",
   "execution_count": null,
   "metadata": {},
   "outputs": [],
   "source": [
    "from PyQt6.QtWidgets import(\n",
    "    QApplication,\n",
    "    QMainWindow,\n",
    "    QPushButton,\n",
    ")\n",
    "import sys\n",
    "\n",
    "class MainWindow(QMainWindow):\n",
    "    def __init__(self):\n",
    "        super().__init__()\n",
    "        self.setWindowTitle(\"My App\")\n",
    "        button = QPushButton(\"Tekan saya!\")\n",
    "        button.setCheckable(True)\n",
    "        button.clicked.connect(self.tombol_telah_di_click)\n",
    "        # Set the central widget of the Window.\n",
    "        self.setCentralWidget(button)\n",
    "    \n",
    "    def tombol_telah_di_click(self):\n",
    "        print(\"Telah di Click!\")\n",
    "\n",
    "app = QApplication(sys.argv)\n",
    "window = MainWindow()\n",
    "window.show()\n",
    "app.exec()\n",
    "sys.exit(app.exec())"
   ]
  },
  {
   "cell_type": "markdown",
   "metadata": {},
   "source": [
    "#### Menerima data"
   ]
  },
  {
   "cell_type": "markdown",
   "metadata": {},
   "source": [
    "*   sinyal juga dapat mengirimkan data untuk memberikan lebih banyak informasi tentang apa yang baru saja terjadi.\n",
    "*   Sinyal yang diklik tidak terkecuali, juga menyediakan status dicentang (atau dialihkan) untuk tombol tersebut.\n"
   ]
  },
  {
   "cell_type": "code",
   "execution_count": null,
   "metadata": {},
   "outputs": [],
   "source": [
    "from PyQt6.QtWidgets import(\n",
    "    QApplication,\n",
    "    QMainWindow,\n",
    "    QPushButton,\n",
    ")\n",
    "import sys\n",
    "class MainWindow(QMainWindow):\n",
    "    def __init__(self):\n",
    "        super().__init__()\n",
    "        self.setWindowTitle(\"My App\")\n",
    "        button = QPushButton(\"Tekan saya!\")\n",
    "        button.setCheckable(True)\n",
    "        button.clicked.connect(self.tombol_telah_di_click)\n",
    "        button.clicked.connect(self.tombol_telah_dialihkan)\n",
    "        # Set the central widget of the Window.\n",
    "        self.setCentralWidget(button)\n",
    "    \n",
    "    def tombol_telah_di_click(self):\n",
    "        print(\"Telah di Click!\")\n",
    "    \n",
    "    def tombol_telah_dialihkan(self, dicentang):\n",
    "        print(\"dicentang ?\", dicentang)\n",
    "\n",
    "app = QApplication(sys.argv)\n",
    "window = MainWindow()\n",
    "window.show()\n",
    "app.exec()\n",
    "sys.exit(app.exec())"
   ]
  },
  {
   "cell_type": "markdown",
   "metadata": {},
   "source": [
    "#### Menyimpan data"
   ]
  },
  {
   "cell_type": "markdown",
   "metadata": {},
   "source": [
    "*   Seringkali berguna untuk menyimpan status widget saat ini dalam variabel Python. \n",
    "*   Hal ini memungkinkan anda untuk bekerja dengan nilai-nilai seperti variabel Python lainnya dan tanpa mengakses widget asli.\n",
    "*   Kita dapat menyimpan nilai-nilai ini sebagai variabel individual atau menggunakan dictionary jika kita mau."
   ]
  },
  {
   "cell_type": "code",
   "execution_count": null,
   "metadata": {},
   "outputs": [],
   "source": [
    "class MainWindow(QMainWindow):   \n",
    "    def __init__(self):       \n",
    "        super().__init__()       \n",
    "        self.tombol_dicentang = True       \n",
    "        \n",
    "        self.setWindowTitle(\"My App\")       \n",
    "        button = QPushButton(\"Tekan Saya!\")       \n",
    "        button.setCheckable(True)       \n",
    "        button.clicked.connect(self.tombol_telah_dirubah)     \n",
    "        button.setChecked(self.tombol_dicentang)      \n",
    "        self.setCentralWidget(button)   \n",
    "    \n",
    "    def tombol_telah_dirubah(self, dicentang):      \n",
    "        self.tombol_dicentang = dicentang       \n",
    "        print(self.button_is_checked)"
   ]
  }
 ],
 "metadata": {
  "kernelspec": {
   "display_name": "Python 3",
   "language": "python",
   "name": "python3"
  },
  "language_info": {
   "codemirror_mode": {
    "name": "ipython",
    "version": 3
   },
   "file_extension": ".py",
   "mimetype": "text/x-python",
   "name": "python",
   "nbconvert_exporter": "python",
   "pygments_lexer": "ipython3",
   "version": "3.11.5"
  }
 },
 "nbformat": 4,
 "nbformat_minor": 2
}
