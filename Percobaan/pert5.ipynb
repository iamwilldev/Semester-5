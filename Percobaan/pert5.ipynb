{
 "cells": [
  {
   "cell_type": "markdown",
   "metadata": {},
   "source": [
    "# Action, Toolbar dan Menu"
   ]
  },
  {
   "cell_type": "markdown",
   "metadata": {},
   "source": [
    "## Pendahuluan"
   ]
  },
  {
   "cell_type": "markdown",
   "metadata": {},
   "source": [
    "*   Salah satu elemen antarmuka pengguna yang paling sering dilihat adalah toolbar. \n",
    "*   Toolbar adalah bilah ikon dan/atau teks yang digunakan untuk melakukan tugas-tugas umum dalam suatu aplikasi. \n",
    "*   Toolbar Qt mendukung tampilan ikon, teks, dan juga dapat berisi Qtwidget standar apa pun. \n",
    "*   Untuk tombol, pendekatan terbaik adalah dengan memanfaatkan sistem QAction untuk menempatkan tombol pada toolbar.\n"
   ]
  },
  {
   "cell_type": "code",
   "execution_count": 1,
   "metadata": {},
   "outputs": [],
   "source": [
    "import sys\n",
    "from PyQt6.QtCore import Qt\n",
    "from PyQt6.QtWidgets import (QApplication, QLabel, QMainWindow, QToolBar,)\n",
    "\n",
    "class MainWindow(QMainWindow):    \n",
    "    def __init__(self):        \n",
    "        super().__init__()        \n",
    "        self.setWindowTitle(\"My App\")        \n",
    "        \n",
    "        label = QLabel(\"Hello!\")        \n",
    "        label.setAlignment(Qt.AlignmentFlag.AlignCenter)        \n",
    "        self.setCentralWidget(label)        \n",
    "        toolbar = QToolBar(\"My main toolbar\")        \n",
    "        self.addToolBar(toolbar)    \n",
    "        \n",
    "    def onMyToolBarButtonClick(self, s):        \n",
    "        print(\"click\", s)\n",
    "        \n",
    "app = QApplication(sys.argv)\n",
    "window = MainWindow()\n",
    "window.show()\n",
    "app.exec()\n",
    "sys.exit(app.exec())"
   ]
  },
  {
   "cell_type": "markdown",
   "metadata": {},
   "source": [
    "*   QAction adalah kelas yang menyediakan cara untuk mendeskripsikan antarmuka pengguna abstrak. \n",
    "*   Artinya dalam bahasa Inggris adalah Anda dapat mendefinisikan beberapa elemen antarmuka dalam satu objek, disatukan oleh efek interaksi dengan elemen tersebut. \n",
    "*   Sebagai contoh, fungsi-fungsi yang umum terdapat pada toolbar dan juga menu.\n"
   ]
  },
  {
   "cell_type": "code",
   "execution_count": 1,
   "metadata": {},
   "outputs": [
    {
     "name": "stdout",
     "output_type": "stream",
     "text": [
      "click False\n",
      "click False\n",
      "click False\n",
      "click False\n",
      "click False\n",
      "click False\n",
      "click False\n"
     ]
    }
   ],
   "source": [
    "import sys\n",
    "from PyQt6.QtCore import Qt\n",
    "from PyQt6.QtGui import QAction\n",
    "from PyQt6.QtWidgets import (QApplication, QLabel, QMainWindow, QToolBar)\n",
    "\n",
    "class MainWindow(QMainWindow):    \n",
    "    def __init__(self):        \n",
    "        super().__init__()        \n",
    "        self.setWindowTitle(\"My App\")        \n",
    "        \n",
    "        label = QLabel(\"Hello!\")        \n",
    "        label.setAlignment(Qt.AlignmentFlag.AlignCenter)       \n",
    "        self.setCentralWidget(label)        \n",
    "        toolbar = QToolBar(\"My main toolbar\")        \n",
    "        self.addToolBar(toolbar)        \n",
    "        button_action = QAction(\"Your button\", self)        \n",
    "        button_action.setStatusTip(\"This is your button\")        \n",
    "        button_action.triggered.connect(self.onMyToolBarButtonClick)        \n",
    "        toolbar.addAction(button_action)    \n",
    "    \n",
    "    def onMyToolBarButtonClick(self, s):        \n",
    "        print(\"click\", s)\n",
    "        \n",
    "app = QApplication(sys.argv)\n",
    "window = MainWindow()\n",
    "window.show()\n",
    "app.exec()\n",
    "sys.exit(app.exec())"
   ]
  },
  {
   "cell_type": "markdown",
   "metadata": {},
   "source": [
    "*   Kita membuat fungsi yang akan menerima sinyal dari QAction sehingga dapat melihat apakah fungsi tersebut berjalan.\n",
    "*   Selanjutnya, mendefinisikan QAction itu sendiri. \n",
    "*   Saat membuat instance, kita dapat memberikan label untuk tindakan dan/atau ikon. \n",
    "*   Juga harus meneruskan QObject apa pun untuk bertindak sebagai induk aksi - di sini kita meneruskan self sebagai referensi ke jendela utama kita. \n",
    "*   Untuk QAction, elemen induk diteruskan sebagai parameter akhir.\n",
    "*   Selanjutnya, kita dapat memilih untuk menyetel tip status — teks ini akan ditampilkan pada bilah status setelah kita memilikinya. \n",
    "*   Kemudian menghubungkan sinyal .triggered ke fungsi kustom. \n",
    "*   Sinyal ini akan menyala setiap kali QAction 'dipicu' (atau diaktifkan).\n"
   ]
  },
  {
   "cell_type": "code",
   "execution_count": 1,
   "metadata": {},
   "outputs": [
    {
     "name": "stdout",
     "output_type": "stream",
     "text": [
      "click False\n"
     ]
    }
   ],
   "source": [
    "import sys\n",
    "from PyQt6.QtCore import Qt\n",
    "from PyQt6.QtGui import QAction\n",
    "from PyQt6.QtWidgets import (QApplication, QLabel, QMainWindow, QStatusBar, QToolBar)\n",
    "\n",
    "class MainWindow(QMainWindow):    \n",
    "    def __init__(self):        \n",
    "        super().__init__()        \n",
    "        self.setWindowTitle(\"My App\")        \n",
    "        \n",
    "        label = QLabel(\"Hello!\")        \n",
    "        label.setAlignment(Qt.AlignmentFlag.AlignCenter)        \n",
    "        self.setCentralWidget(label)        \n",
    "        toolbar = QToolBar(\"My main toolbar\")        \n",
    "        self.addToolBar(toolbar)        \n",
    "        button_action = QAction(\"Your button\", self)        \n",
    "        button_action.setStatusTip(\"This is your button\")        \n",
    "        button_action.triggered.connect(self.onMyToolBarButtonClick)        \n",
    "        toolbar.addAction(button_action)        \n",
    "        self.setStatusBar(QStatusBar(self))    \n",
    "    \n",
    "    def onMyToolBarButtonClick(self, s):        \n",
    "        print(\"click\", s)\n",
    "        \n",
    "app = QApplication(sys.argv)\n",
    "window = MainWindow()\n",
    "window.show()\n",
    "app.exec()\n",
    "sys.exit(app.exec())"
   ]
  },
  {
   "cell_type": "markdown",
   "metadata": {},
   "source": [
    "*   Selanjutnya kita akan mengaktifkan QAction — jadi mengklik akan mengaktifkannya, dan mengklik lagi akan mematikannya. \n",
    "*   Untuk melakukan ini, kita cukup memanggil setCheckable(True) pada objek QAction.\n",
    "```\n",
    "button_action.setCheckable(True)\n",
    "```\n"
   ]
  },
  {
   "cell_type": "markdown",
   "metadata": {},
   "source": [
    "## QAction"
   ]
  },
  {
   "cell_type": "markdown",
   "metadata": {},
   "source": [
    "*   Kita dapat membuat objek QIcon dengan meneruskan jalur file ke kelas. \n",
    "*   Memuat ikon menggunakan teknik direktori dasar yang telah dipelajari di bab Widget. Ini memastikan file dapat ditemukan di mana pun ketika menjalankan skrip. \n",
    "*   Untuk menambahkan ikon ke QAction (dan juga tombolnya) perlu meneruskannya sebagai parameter pertama saat membuat QAction. \n",
    "*   Perlu memberi tahu toolbar seberapa besar ikon, jika tidak, ikon akan dikelilingi oleh banyak padding. \n",
    "*   Besaran ikon dapat dikonfigurasi dengan memanggil .setIconSize() dengan objek QSize."
   ]
  },
  {
   "cell_type": "code",
   "execution_count": 1,
   "metadata": {},
   "outputs": [
    {
     "name": "stdout",
     "output_type": "stream",
     "text": [
      "click True\n",
      "click False\n",
      "click True\n",
      "click False\n"
     ]
    }
   ],
   "source": [
    "import os\n",
    "import sys\n",
    "from PyQt6.QtCore import QSize, Qt\n",
    "from PyQt6.QtGui import QAction, QIcon\n",
    "from PyQt6.QtWidgets import (QApplication, QLabel, QMainWindow, QStatusBar, QToolBar,)\n",
    "\n",
    "basedir = os.path.dirname(\"/Users/iamapinn/Developer/\")\n",
    "\n",
    "class MainWindow(QMainWindow):    \n",
    "    def __init__(self):        \n",
    "        super().__init__()        \n",
    "        self.setWindowTitle(\"My App\")        \n",
    "        \n",
    "        label = QLabel(\"Hello!\")        \n",
    "        label.setAlignment(Qt.AlignmentFlag.AlignCenter)        \n",
    "        self.setCentralWidget(label)        \n",
    "        toolbar = QToolBar(\"My main toolbar\")        \n",
    "        toolbar.setIconSize(QSize(16, 16))        \n",
    "        self.addToolBar(toolbar)        \n",
    "        button_action = QAction(QIcon(os.path.join(basedir, \"jisung.png\")), \"Your button\", self,)        \n",
    "        button_action.setStatusTip(\"This is your button\")        \n",
    "        button_action.triggered.connect(self.onMyToolBarButtonClick)        \n",
    "        button_action.setCheckable(True)        \n",
    "        toolbar.addAction(button_action)        \n",
    "        self.setStatusBar(QStatusBar(self))    \n",
    "    \n",
    "    def onMyToolBarButtonClick(self, s):        \n",
    "        print(\"click\", s)\n",
    "\n",
    "app = QApplication(sys.argv)\n",
    "window = MainWindow()\n",
    "window.show()\n",
    "app.exec()\n",
    "sys.exit(app.exec())"
   ]
  },
  {
   "cell_type": "markdown",
   "metadata": {},
   "source": [
    "*   Qt menggunakan pengaturan default sistem operasi untuk menentukan apakah akan menampilkan ikon, teks, atau ikon dan teks di toolbar. \n",
    "*   Namun dapat menggantinya dengan menggunakan .setToolButtonStyle. \n",
    "*   Slot ini menerima salah satu tanda berikut dari Qt.namespace \n",
    "\n",
    "| Flag | Behavior |\n",
    "| --- | --- |\n",
    "| Qt.ToolButtonStyle.ToolButtonIconOnly | Icon only, no text |\n",
    "| Qt.ToolButtonStyle.ToolButtonTextOnly | Text only, no icon |\n",
    "| Qt.ToolButtonStyle.ToolButtonTextBesideIcon | Icon and text, with text besidethe icon |\n",
    "| Qt.ToolButtonStyle.ToolButtonTextUnderIcon | Icon and text, with text underthe icon |\n",
    "| Qt.ToolButtonStyle.ToolButtonFollowStyle | Follow the host desktop style |"
   ]
  },
  {
   "cell_type": "code",
   "execution_count": 1,
   "metadata": {},
   "outputs": [
    {
     "name": "stdout",
     "output_type": "stream",
     "text": [
      "click True\n",
      "click True\n",
      "click False\n",
      "click False\n",
      "click True\n",
      "click False\n",
      "click True\n",
      "click True\n"
     ]
    }
   ],
   "source": [
    "import os\n",
    "import sys\n",
    "from PyQt6.QtCore import QSize, Qt\n",
    "from PyQt6.QtGui import QAction, QIcon\n",
    "from PyQt6.QtWidgets import (QApplication, QCheckBox, QLabel, QMainWindow, QStatusBar, QToolBar)\n",
    "\n",
    "basedir = os.path.dirname(\"/Users/iamapinn/Developer/\")\n",
    "\n",
    "class MainWindow(QMainWindow):    \n",
    "    def __init__(self):        \n",
    "        super().__init__()        \n",
    "        self.setWindowTitle(\"My App\")        \n",
    "        \n",
    "        label = QLabel(\"Hello!\")        \n",
    "        label.setAlignment(Qt.AlignmentFlag.AlignCenter)        \n",
    "        self.setCentralWidget(label)        \n",
    "        \n",
    "        toolbar = QToolBar(\"My main toolbar\")        \n",
    "        toolbar.setIconSize(QSize(16, 16))        \n",
    "        self.addToolBar(toolbar)        \n",
    "        button_action = QAction(QIcon(os.path.join(basedir, \"jisung.png\")), \"Your button\", self,)        \n",
    "        button_action.setStatusTip(\"This is your button\")        \n",
    "        button_action.triggered.connect(self.onMyToolBarButtonClick)        \n",
    "        button_action.setCheckable(True)        \n",
    "        toolbar.addAction(button_action)        \n",
    "        toolbar.addSeparator()        \n",
    "        button_action2 = QAction(QIcon(os.path.join(basedir, \"jisung.png\")),\"Your button2\",self,)\n",
    "        button_action2.setStatusTip(\"This is your button2\")\n",
    "        button_action2.triggered.connect(self.onMyToolBarButtonClick)        \n",
    "        button_action2.setCheckable(True)        \n",
    "        toolbar.addAction(button_action2)        \n",
    "        toolbar.addWidget(QLabel(\"Hello\"))        \n",
    "        toolbar.addWidget(QCheckBox())        \n",
    "        self.setStatusBar(QStatusBar(self))    \n",
    "    \n",
    "    def onMyToolBarButtonClick(self, s):        \n",
    "        print(\"click\", s)\n",
    "\n",
    "app = QApplication(sys.argv)\n",
    "window = MainWindow()\n",
    "window.show()\n",
    "app.exec()\n",
    "sys.exit(app.exec())"
   ]
  },
  {
   "cell_type": "markdown",
   "metadata": {},
   "source": [
    "## Menu"
   ]
  },
  {
   "cell_type": "markdown",
   "metadata": {},
   "source": [
    "*   Menu adalah komponen standar UI lainnya. \n",
    "*   Mereka mengizinkan akses ke semua fungsi aplikasi standar. \n",
    "*   Ada beberapa menu standar - misalnya, File, Edit, dan Bantuan. \n",
    "*   Menu dapat disarangkan untuk membuat hierarki fungsi dan sering kali mendukung serta menampilkan pintasan keyboard untuk akses cepat ke fungsinya."
   ]
  },
  {
   "cell_type": "code",
   "execution_count": 1,
   "metadata": {},
   "outputs": [
    {
     "name": "stdout",
     "output_type": "stream",
     "text": [
      "click True\n",
      "click True\n",
      "click False\n",
      "click True\n",
      "click False\n",
      "click True\n",
      "click False\n"
     ]
    }
   ],
   "source": [
    "import os\n",
    "import sys\n",
    "from PyQt6.QtCore import QSize, Qt\n",
    "from PyQt6.QtGui import QAction, QIcon\n",
    "from PyQt6.QtWidgets import (QApplication, QCheckBox, QLabel, QMainWindow, QStatusBar, QToolBar,)\n",
    "\n",
    "basedir = os.path.dirname(\"/Users/iamapinn/Developer/\")\n",
    "\n",
    "class MainWindow(QMainWindow):    \n",
    "    def __init__(self):        \n",
    "        super().__init__()        \n",
    "        self.setWindowTitle(\"My App\")        \n",
    "        \n",
    "        label = QLabel(\"Hello!\")       \n",
    "        label.setAlignment(Qt.AlignmentFlag.AlignCenter)        \n",
    "        self.setCentralWidget(label)        \n",
    "        \n",
    "        toolbar = QToolBar(\"My main toolbar\")        \n",
    "        toolbar.setIconSize(QSize(16, 16))       \n",
    "        self.addToolBar(toolbar)        \n",
    "        \n",
    "        button_action = QAction(QIcon(os.path.join(basedir, \"jisung.png\")), \"&Your button\", self,)        \n",
    "        button_action.setStatusTip(\"This is your button\")        \n",
    "        button_action.triggered.connect(self.onMyToolBarButtonClick)        \n",
    "        button_action.setCheckable(True)        \n",
    "        toolbar.addAction(button_action)        \n",
    "        toolbar.addSeparator()        \n",
    "        \n",
    "        button_action2 = QAction(QIcon(os.path.join(basedir, \"jisung.png\")), \"Your &button2\", self,)\n",
    "        button_action2.setStatusTip(\"This is your button2\")        \n",
    "        button_action2.triggered.connect(self.onMyToolBarButtonClick)        \n",
    "        button_action2.setCheckable(True)        \n",
    "        toolbar.addAction(button_action2)        \n",
    "        toolbar.addWidget(QLabel(\"Hello\"))        \n",
    "        toolbar.addWidget(QCheckBox())        \n",
    "        self.setStatusBar(QStatusBar(self))        \n",
    "        \n",
    "        menu = self.menuBar()        \n",
    "        file_menu = menu.addMenu(\"&File\")        \n",
    "        file_menu.addAction(button_action)        \n",
    "        file_menu.addSeparator()        \n",
    "        file_menu.addAction(button_action2)\n",
    "    \n",
    "    def onMyToolBarButtonClick(self, s):        \n",
    "        print(\"click\", s)\n",
    "\n",
    "app = QApplication(sys.argv)\n",
    "window = MainWindow()\n",
    "window.show()\n",
    "app.exec()\n",
    "sys.exit(app.exec())"
   ]
  },
  {
   "cell_type": "markdown",
   "metadata": {},
   "source": [
    "## Submenu"
   ]
  },
  {
   "cell_type": "markdown",
   "metadata": {},
   "source": [
    "*   Untuk menambahkan submenu, cukup membuat menu baru dengan memanggil addMenu() pada menu induk. \n",
    "*   Kemudian dapat menambahkan tindakan seperti biasa. Misalnya:\n",
    "```\n",
    "file_submenu = file_menu.addMenu(\"Submenu\")\n",
    "file_submenu.addAction(button_action2)\n",
    "```"
   ]
  }
 ],
 "metadata": {
  "kernelspec": {
   "display_name": "Python 3",
   "language": "python",
   "name": "python3"
  },
  "language_info": {
   "codemirror_mode": {
    "name": "ipython",
    "version": 3
   },
   "file_extension": ".py",
   "mimetype": "text/x-python",
   "name": "python",
   "nbconvert_exporter": "python",
   "pygments_lexer": "ipython3",
   "version": "3.11.5"
  }
 },
 "nbformat": 4,
 "nbformat_minor": 2
}
