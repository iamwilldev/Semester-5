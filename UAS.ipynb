{
 "cells": [
  {
   "cell_type": "markdown",
   "metadata": {},
   "source": [
    "# UAS PROYEK SAINS DATA\n",
    "\n",
    "> <br> Nama: Muhammad Muqtafin Nuha <br> NIM : 210411100218 <br><br>\n",
    "\n",
    "<P> Informasi Data:\n",
    "\n",
    "> <br> - Data Tumbuh Kembang Anak berasal dari Puskesmas Kamal, Kec. Kamal, Kab. Bangkalan <br> - Data sebanyak 500 record dari 12 Januari 2023 sampai 14 Februari 2023 <br> - Data ini berisi 4 atribut yaitu: Umur, Jenis Kelamin, TB, BB <br> <br>\n",
    "</p>\n",
    "\n",
    "---"
   ]
  },
  {
   "cell_type": "markdown",
   "metadata": {},
   "source": [
    "# Knowledge Discovery in Database (KDD) Proses"
   ]
  },
  {
   "cell_type": "code",
   "execution_count": 4,
   "metadata": {},
   "outputs": [
    {
     "name": "stdout",
     "output_type": "stream",
     "text": [
      "Collecting openpyxl\n",
      "  Downloading openpyxl-3.1.2-py2.py3-none-any.whl (249 kB)\n",
      "\u001b[2K     \u001b[90m━━━━━━━━━━━━━━━━━━━━━━━━━━━━━━━━━━━━━━━\u001b[0m \u001b[32m250.0/250.0 kB\u001b[0m \u001b[31m2.9 MB/s\u001b[0m eta \u001b[36m0:00:00\u001b[0ma \u001b[36m0:00:01\u001b[0m\n",
      "\u001b[?25hCollecting et-xmlfile (from openpyxl)\n",
      "  Downloading et_xmlfile-1.1.0-py3-none-any.whl (4.7 kB)\n",
      "Installing collected packages: et-xmlfile, openpyxl\n",
      "Successfully installed et-xmlfile-1.1.0 openpyxl-3.1.2\n",
      "Note: you may need to restart the kernel to use updated packages.\n"
     ]
    }
   ],
   "source": [
    "pip install openpyxl"
   ]
  },
  {
   "cell_type": "code",
   "execution_count": 41,
   "metadata": {},
   "outputs": [],
   "source": [
    "import pandas as pd\n",
    "import numpy as np\n",
    "import re"
   ]
  },
  {
   "cell_type": "markdown",
   "metadata": {},
   "source": [
    "## Preparation Data"
   ]
  },
  {
   "cell_type": "markdown",
   "metadata": {},
   "source": [
    "### Data Awal"
   ]
  },
  {
   "cell_type": "code",
   "execution_count": 42,
   "metadata": {},
   "outputs": [
    {
     "data": {
      "text/html": [
       "<div>\n",
       "<style scoped>\n",
       "    .dataframe tbody tr th:only-of-type {\n",
       "        vertical-align: middle;\n",
       "    }\n",
       "\n",
       "    .dataframe tbody tr th {\n",
       "        vertical-align: top;\n",
       "    }\n",
       "\n",
       "    .dataframe thead th {\n",
       "        text-align: right;\n",
       "    }\n",
       "</style>\n",
       "<table border=\"1\" class=\"dataframe\">\n",
       "  <thead>\n",
       "    <tr style=\"text-align: right;\">\n",
       "      <th></th>\n",
       "      <th>No</th>\n",
       "      <th>Nama</th>\n",
       "      <th>JK</th>\n",
       "      <th>Tgl Lahir</th>\n",
       "      <th>Prov</th>\n",
       "      <th>Kab/Kota</th>\n",
       "      <th>Kec</th>\n",
       "      <th>Pukesmas</th>\n",
       "      <th>Desa/Kel</th>\n",
       "      <th>Posyandu</th>\n",
       "      <th>Alamat</th>\n",
       "      <th>Usia Saat Ukur</th>\n",
       "      <th>Tanggal Pengukuran</th>\n",
       "      <th>Berat</th>\n",
       "      <th>Tinggi</th>\n",
       "      <th>Status</th>\n",
       "    </tr>\n",
       "  </thead>\n",
       "  <tbody>\n",
       "    <tr>\n",
       "      <th>0</th>\n",
       "      <td>1</td>\n",
       "      <td>NAJWA KHOIRU</td>\n",
       "      <td>P</td>\n",
       "      <td>2018-07-14</td>\n",
       "      <td>JAWA TIMUR</td>\n",
       "      <td>BANGKALAN</td>\n",
       "      <td>KAMAL</td>\n",
       "      <td>KAMAL</td>\n",
       "      <td>PENDABAH</td>\n",
       "      <td>PENDABAH BAWAH</td>\n",
       "      <td>DESA PENDABAH-POSY. PANDEBEH BAWAH</td>\n",
       "      <td>4 Tahun - 5 Bulan - 29 Hari</td>\n",
       "      <td>2023-01-12</td>\n",
       "      <td>16.0</td>\n",
       "      <td>97.5</td>\n",
       "      <td>Risiko Gizi Lebih</td>\n",
       "    </tr>\n",
       "    <tr>\n",
       "      <th>1</th>\n",
       "      <td>2</td>\n",
       "      <td>MOH. HOIRUL FAHMI</td>\n",
       "      <td>L</td>\n",
       "      <td>2018-04-06</td>\n",
       "      <td>JAWA TIMUR</td>\n",
       "      <td>BANGKALAN</td>\n",
       "      <td>KAMAL</td>\n",
       "      <td>KAMAL</td>\n",
       "      <td>PENDABAH</td>\n",
       "      <td>PENDABAH BAWAH</td>\n",
       "      <td>DESA PENDABAH-POSY. PANDEBEH BAWAH</td>\n",
       "      <td>4 Tahun - 9 Bulan - 7 Hari</td>\n",
       "      <td>2023-01-12</td>\n",
       "      <td>17.1</td>\n",
       "      <td>105.2</td>\n",
       "      <td>Gizi Baik</td>\n",
       "    </tr>\n",
       "    <tr>\n",
       "      <th>2</th>\n",
       "      <td>3</td>\n",
       "      <td>AHMAD NURUL F</td>\n",
       "      <td>L</td>\n",
       "      <td>2018-06-06</td>\n",
       "      <td>JAWA TIMUR</td>\n",
       "      <td>BANGKALAN</td>\n",
       "      <td>KAMAL</td>\n",
       "      <td>KAMAL</td>\n",
       "      <td>PENDABAH</td>\n",
       "      <td>PENDABAH BAWAH</td>\n",
       "      <td>DESA PENDABAH-POSY. PANDEBEH BAWAH</td>\n",
       "      <td>4 Tahun - 7 Bulan - 6 Hari</td>\n",
       "      <td>2023-01-12</td>\n",
       "      <td>14.0</td>\n",
       "      <td>100.1</td>\n",
       "      <td>Gizi Baik</td>\n",
       "    </tr>\n",
       "    <tr>\n",
       "      <th>3</th>\n",
       "      <td>4</td>\n",
       "      <td>PUTRI SALSABILA</td>\n",
       "      <td>P</td>\n",
       "      <td>2018-07-28</td>\n",
       "      <td>JAWA TIMUR</td>\n",
       "      <td>BANGKALAN</td>\n",
       "      <td>KAMAL</td>\n",
       "      <td>KAMAL</td>\n",
       "      <td>PENDABAH</td>\n",
       "      <td>PENDABAH BAWAH</td>\n",
       "      <td>DESA PENDABAH-POSY. PANDEBEH BAWAH</td>\n",
       "      <td>4 Tahun - 5 Bulan - 15 Hari</td>\n",
       "      <td>2023-01-12</td>\n",
       "      <td>16.8</td>\n",
       "      <td>100.4</td>\n",
       "      <td>Gizi Baik</td>\n",
       "    </tr>\n",
       "    <tr>\n",
       "      <th>4</th>\n",
       "      <td>5</td>\n",
       "      <td>MOH. MAULANA AKBAR</td>\n",
       "      <td>L</td>\n",
       "      <td>2018-09-05</td>\n",
       "      <td>JAWA TIMUR</td>\n",
       "      <td>BANGKALAN</td>\n",
       "      <td>KAMAL</td>\n",
       "      <td>KAMAL</td>\n",
       "      <td>PENDABAH</td>\n",
       "      <td>PENDABAH BAWAH</td>\n",
       "      <td>DESA PENDABAH-POSY. PANDEBEH BAWAH</td>\n",
       "      <td>4 Tahun - 4 Bulan - 7 Hari</td>\n",
       "      <td>2023-01-12</td>\n",
       "      <td>17.1</td>\n",
       "      <td>97.3</td>\n",
       "      <td>Risiko Gizi Lebih</td>\n",
       "    </tr>\n",
       "  </tbody>\n",
       "</table>\n",
       "</div>"
      ],
      "text/plain": [
       "   No                  Nama  JK    Tgl Lahir         Prov    Kab/Kota     Kec  \\\n",
       "0   1        NAJWA KHOIRU    P   2018-07-14   JAWA TIMUR   BANGKALAN   KAMAL    \n",
       "1   2   MOH. HOIRUL FAHMI    L   2018-04-06   JAWA TIMUR   BANGKALAN   KAMAL    \n",
       "2   3       AHMAD NURUL F    L   2018-06-06   JAWA TIMUR   BANGKALAN   KAMAL    \n",
       "3   4     PUTRI SALSABILA    P   2018-07-28   JAWA TIMUR   BANGKALAN   KAMAL    \n",
       "4   5  MOH. MAULANA AKBAR    L   2018-09-05   JAWA TIMUR   BANGKALAN   KAMAL    \n",
       "\n",
       "  Pukesmas   Desa/Kel         Posyandu                                Alamat  \\\n",
       "0   KAMAL   PENDABAH   PENDABAH BAWAH   DESA PENDABAH-POSY. PANDEBEH BAWAH     \n",
       "1   KAMAL   PENDABAH   PENDABAH BAWAH   DESA PENDABAH-POSY. PANDEBEH BAWAH     \n",
       "2   KAMAL   PENDABAH   PENDABAH BAWAH   DESA PENDABAH-POSY. PANDEBEH BAWAH     \n",
       "3   KAMAL   PENDABAH   PENDABAH BAWAH   DESA PENDABAH-POSY. PANDEBEH BAWAH     \n",
       "4   KAMAL   PENDABAH   PENDABAH BAWAH   DESA PENDABAH-POSY. PANDEBEH BAWAH     \n",
       "\n",
       "                Usia Saat Ukur Tanggal Pengukuran  Berat  Tinggi  \\\n",
       "0  4 Tahun - 5 Bulan - 29 Hari        2023-01-12    16.0    97.5   \n",
       "1   4 Tahun - 9 Bulan - 7 Hari        2023-01-12    17.1   105.2   \n",
       "2   4 Tahun - 7 Bulan - 6 Hari        2023-01-12    14.0   100.1   \n",
       "3  4 Tahun - 5 Bulan - 15 Hari        2023-01-12    16.8   100.4   \n",
       "4   4 Tahun - 4 Bulan - 7 Hari        2023-01-12    17.1    97.3   \n",
       "\n",
       "              Status  \n",
       "0  Risiko Gizi Lebih  \n",
       "1          Gizi Baik  \n",
       "2          Gizi Baik  \n",
       "3          Gizi Baik  \n",
       "4  Risiko Gizi Lebih  "
      ]
     },
     "execution_count": 42,
     "metadata": {},
     "output_type": "execute_result"
    }
   ],
   "source": [
    "df = pd.read_excel('DataGiziAnak.xlsx')\n",
    "df.head()"
   ]
  },
  {
   "cell_type": "markdown",
   "metadata": {},
   "source": [
    "## Selection Data"
   ]
  },
  {
   "cell_type": "code",
   "execution_count": 58,
   "metadata": {},
   "outputs": [],
   "source": [
    "X = df[['Nama', 'JK', 'Usia Saat Ukur', 'Berat', 'Tinggi']]\n",
    "y = df[['Status']]"
   ]
  },
  {
   "cell_type": "markdown",
   "metadata": {},
   "source": [
    "### Data Fitur"
   ]
  },
  {
   "cell_type": "code",
   "execution_count": 59,
   "metadata": {},
   "outputs": [
    {
     "data": {
      "text/html": [
       "<div>\n",
       "<style scoped>\n",
       "    .dataframe tbody tr th:only-of-type {\n",
       "        vertical-align: middle;\n",
       "    }\n",
       "\n",
       "    .dataframe tbody tr th {\n",
       "        vertical-align: top;\n",
       "    }\n",
       "\n",
       "    .dataframe thead th {\n",
       "        text-align: right;\n",
       "    }\n",
       "</style>\n",
       "<table border=\"1\" class=\"dataframe\">\n",
       "  <thead>\n",
       "    <tr style=\"text-align: right;\">\n",
       "      <th></th>\n",
       "      <th>Nama</th>\n",
       "      <th>JK</th>\n",
       "      <th>Usia Saat Ukur</th>\n",
       "      <th>Berat</th>\n",
       "      <th>Tinggi</th>\n",
       "    </tr>\n",
       "  </thead>\n",
       "  <tbody>\n",
       "    <tr>\n",
       "      <th>0</th>\n",
       "      <td>NAJWA KHOIRU</td>\n",
       "      <td>P</td>\n",
       "      <td>4 Tahun - 5 Bulan - 29 Hari</td>\n",
       "      <td>16.0</td>\n",
       "      <td>97.5</td>\n",
       "    </tr>\n",
       "    <tr>\n",
       "      <th>1</th>\n",
       "      <td>MOH. HOIRUL FAHMI</td>\n",
       "      <td>L</td>\n",
       "      <td>4 Tahun - 9 Bulan - 7 Hari</td>\n",
       "      <td>17.1</td>\n",
       "      <td>105.2</td>\n",
       "    </tr>\n",
       "    <tr>\n",
       "      <th>2</th>\n",
       "      <td>AHMAD NURUL F</td>\n",
       "      <td>L</td>\n",
       "      <td>4 Tahun - 7 Bulan - 6 Hari</td>\n",
       "      <td>14.0</td>\n",
       "      <td>100.1</td>\n",
       "    </tr>\n",
       "    <tr>\n",
       "      <th>3</th>\n",
       "      <td>PUTRI SALSABILA</td>\n",
       "      <td>P</td>\n",
       "      <td>4 Tahun - 5 Bulan - 15 Hari</td>\n",
       "      <td>16.8</td>\n",
       "      <td>100.4</td>\n",
       "    </tr>\n",
       "    <tr>\n",
       "      <th>4</th>\n",
       "      <td>MOH. MAULANA AKBAR</td>\n",
       "      <td>L</td>\n",
       "      <td>4 Tahun - 4 Bulan - 7 Hari</td>\n",
       "      <td>17.1</td>\n",
       "      <td>97.3</td>\n",
       "    </tr>\n",
       "  </tbody>\n",
       "</table>\n",
       "</div>"
      ],
      "text/plain": [
       "                   Nama  JK               Usia Saat Ukur  Berat  Tinggi\n",
       "0        NAJWA KHOIRU    P   4 Tahun - 5 Bulan - 29 Hari   16.0    97.5\n",
       "1   MOH. HOIRUL FAHMI    L    4 Tahun - 9 Bulan - 7 Hari   17.1   105.2\n",
       "2       AHMAD NURUL F    L    4 Tahun - 7 Bulan - 6 Hari   14.0   100.1\n",
       "3     PUTRI SALSABILA    P   4 Tahun - 5 Bulan - 15 Hari   16.8   100.4\n",
       "4  MOH. MAULANA AKBAR    L    4 Tahun - 4 Bulan - 7 Hari   17.1    97.3"
      ]
     },
     "execution_count": 59,
     "metadata": {},
     "output_type": "execute_result"
    }
   ],
   "source": [
    "X.head()"
   ]
  },
  {
   "cell_type": "markdown",
   "metadata": {},
   "source": [
    "### Data Target"
   ]
  },
  {
   "cell_type": "code",
   "execution_count": 60,
   "metadata": {},
   "outputs": [
    {
     "data": {
      "text/html": [
       "<div>\n",
       "<style scoped>\n",
       "    .dataframe tbody tr th:only-of-type {\n",
       "        vertical-align: middle;\n",
       "    }\n",
       "\n",
       "    .dataframe tbody tr th {\n",
       "        vertical-align: top;\n",
       "    }\n",
       "\n",
       "    .dataframe thead th {\n",
       "        text-align: right;\n",
       "    }\n",
       "</style>\n",
       "<table border=\"1\" class=\"dataframe\">\n",
       "  <thead>\n",
       "    <tr style=\"text-align: right;\">\n",
       "      <th></th>\n",
       "      <th>Status</th>\n",
       "    </tr>\n",
       "  </thead>\n",
       "  <tbody>\n",
       "    <tr>\n",
       "      <th>0</th>\n",
       "      <td>Risiko Gizi Lebih</td>\n",
       "    </tr>\n",
       "    <tr>\n",
       "      <th>1</th>\n",
       "      <td>Gizi Baik</td>\n",
       "    </tr>\n",
       "    <tr>\n",
       "      <th>2</th>\n",
       "      <td>Gizi Baik</td>\n",
       "    </tr>\n",
       "    <tr>\n",
       "      <th>3</th>\n",
       "      <td>Gizi Baik</td>\n",
       "    </tr>\n",
       "    <tr>\n",
       "      <th>4</th>\n",
       "      <td>Risiko Gizi Lebih</td>\n",
       "    </tr>\n",
       "  </tbody>\n",
       "</table>\n",
       "</div>"
      ],
      "text/plain": [
       "              Status\n",
       "0  Risiko Gizi Lebih\n",
       "1          Gizi Baik\n",
       "2          Gizi Baik\n",
       "3          Gizi Baik\n",
       "4  Risiko Gizi Lebih"
      ]
     },
     "execution_count": 60,
     "metadata": {},
     "output_type": "execute_result"
    }
   ],
   "source": [
    "y.head()"
   ]
  },
  {
   "cell_type": "markdown",
   "metadata": {},
   "source": [
    "## Preprocessing Data"
   ]
  },
  {
   "cell_type": "markdown",
   "metadata": {},
   "source": [
    "### Informasi Data"
   ]
  },
  {
   "cell_type": "code",
   "execution_count": 71,
   "metadata": {},
   "outputs": [
    {
     "name": "stdout",
     "output_type": "stream",
     "text": [
      "<class 'pandas.core.frame.DataFrame'>\n",
      "RangeIndex: 500 entries, 0 to 499\n",
      "Data columns (total 5 columns):\n",
      " #   Column          Non-Null Count  Dtype  \n",
      "---  ------          --------------  -----  \n",
      " 0   Nama            500 non-null    object \n",
      " 1   JK              500 non-null    object \n",
      " 2   Usia Saat Ukur  500 non-null    object \n",
      " 3   Berat           500 non-null    float64\n",
      " 4   Tinggi          500 non-null    float64\n",
      "dtypes: float64(2), object(3)\n",
      "memory usage: 19.7+ KB\n",
      "<class 'pandas.core.frame.DataFrame'>\n",
      "RangeIndex: 500 entries, 0 to 499\n",
      "Data columns (total 1 columns):\n",
      " #   Column  Non-Null Count  Dtype \n",
      "---  ------  --------------  ----- \n",
      " 0   Status  500 non-null    object\n",
      "dtypes: object(1)\n",
      "memory usage: 4.0+ KB\n"
     ]
    }
   ],
   "source": [
    "X.info()\n",
    "y.info()"
   ]
  },
  {
   "cell_type": "markdown",
   "metadata": {},
   "source": [
    "### Cek Data Kosong / Missing Value"
   ]
  },
  {
   "cell_type": "code",
   "execution_count": 69,
   "metadata": {},
   "outputs": [
    {
     "name": "stdout",
     "output_type": "stream",
     "text": [
      "Nama              0\n",
      "JK                0\n",
      "Usia Saat Ukur    0\n",
      "Berat             0\n",
      "Tinggi            0\n",
      "dtype: int64\n",
      "Status    0\n",
      "dtype: int64\n"
     ]
    }
   ],
   "source": [
    "print(X.isnull().sum())\n",
    "print(y.isnull().sum())"
   ]
  },
  {
   "cell_type": "markdown",
   "metadata": {},
   "source": [
    "### Jumlah Data Tiap Kelas"
   ]
  },
  {
   "cell_type": "code",
   "execution_count": 75,
   "metadata": {},
   "outputs": [
    {
     "data": {
      "text/plain": [
       "Status\n",
       "Gizi Baik            346\n",
       "Risiko Gizi Lebih    101\n",
       "Gizi Lebih            35\n",
       "Obesitas              18\n",
       "Name: count, dtype: int64"
      ]
     },
     "execution_count": 75,
     "metadata": {},
     "output_type": "execute_result"
    }
   ],
   "source": [
    "y['Status'].value_counts()\n"
   ]
  },
  {
   "cell_type": "markdown",
   "metadata": {},
   "source": [
    "## Transformation"
   ]
  },
  {
   "cell_type": "code",
   "execution_count": null,
   "metadata": {},
   "outputs": [],
   "source": [
    "import re\n",
    "\n",
    "df['Usia Saat Ukur'] = df['Usia Saat Ukur'].apply(lambda usia: \n",
    "    round(sum([int(value) * multiplier for value, multiplier in zip(map(int, re.findall(r'\\d+', usia)), [12, 1, 1/30])]))\n",
    ")\n",
    "\n",
    "# Display the modified DataFrame\n",
    "df.head()"
   ]
  }
 ],
 "metadata": {
  "kernelspec": {
   "display_name": "Python 3",
   "language": "python",
   "name": "python3"
  },
  "language_info": {
   "codemirror_mode": {
    "name": "ipython",
    "version": 3
   },
   "file_extension": ".py",
   "mimetype": "text/x-python",
   "name": "python",
   "nbconvert_exporter": "python",
   "pygments_lexer": "ipython3",
   "version": "3.11.5"
  }
 },
 "nbformat": 4,
 "nbformat_minor": 2
}
