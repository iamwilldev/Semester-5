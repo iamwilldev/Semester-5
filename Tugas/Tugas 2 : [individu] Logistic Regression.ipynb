{
 "cells": [
  {
   "cell_type": "markdown",
   "metadata": {},
   "source": [
    "Buatlah class untuk algoritma Logistic Regression, dengan ketentuan sebagai berikut :\n",
    "1.  Terdapat method fit yang digunakan untuk proses pembelajaran dengan parameter utama adalah pasangan fitur dan target, jumlah epoch\n",
    "2. Update Bobot yang digunakan adalah Online Learning\n",
    "3. Terdapat method predict yang digunakan untuk testing dengan parameter berupa data baru dan return value berupa hasil prediksi binary classification dengan logistic regression\n",
    "4. Tambahkan method2 tambahan seperti inisialisasi (constructor), perhitungan kinerja dengan menggunakan precision recall, bentuk confusion matrix terlebih dahulu, dan display model yang dihasilkan (jika fitur adalah 1 atau 2 dimensi), dan method2 yang dibutuhkan\n",
    "5. hanya diperbolehkan menggunakan library bantuan numpy dan matplotlib\n",
    "\n",
    "Yang harus dikumpulkan :\n",
    "1. Code berupa link colab\n",
    "2. Laporan yang berisi :\n",
    "   - Teori Logistic Regression, termasuk rumus, algoritma, contoh implementasi\n",
    "   - Contoh perhitungan manual\n",
    "   - hasil ujicoba dan analisa"
   ]
  },
  {
   "cell_type": "code",
   "execution_count": 4,
   "metadata": {},
   "outputs": [
    {
     "name": "stdout",
     "output_type": "stream",
     "text": [
      "Epoch- 0  Data: [3 3]  Output: 0.5  Error: 0.5  w: [-0.005 -0.015 -0.015]\n",
      "Epoch- 0  Data: [1 2]  Output: 0.4875026035157896  Error: 0.4875026035157896  w: [-0.00987503 -0.01987503 -0.02475005]\n",
      "Epoch- 0  Data: [3 4]  Output: 0.4579743089029386  Error: 0.4579743089029386  w: [-0.01445477 -0.03361426 -0.04306902]\n",
      "Epoch- 0  Data: [1 2]  Output: 0.4664985010531951  Error: 0.4664985010531951  w: [-0.01911975 -0.03827924 -0.05239899]\n",
      "Epoch- 0  Data: [3 3]  Output: 0.4277212600548746  Error: 0.4277212600548746  w: [-0.02339697 -0.05111088 -0.06523063]\n",
      "Epoch- 0  Data: [8 3]  Output: 0.3479696405155403  Error: -0.6520303594844596  w: [-0.01687666  0.00105155 -0.04566972]\n",
      "Epoch- 0  Data: [5 2]  Output: 0.47428312525340877  Error: -0.5257168747465912  w: [-0.01161949  0.02733739 -0.03515538]\n",
      "Epoch- 0  Data: [7 2]  Output: 0.5273306057840257  Error: -0.4726693942159743  w: [-0.0068928   0.06042425 -0.025702  ]\n",
      "Epoch- 0  Data: [9 0]  Output: 0.6310969136775831  Error: -0.36890308632241686  w: [-0.00320377  0.09362553 -0.025702  ]\n",
      "Epoch- 0  Data: [8 4]  Output: 0.6554296020881527  Error: -0.3445703979118473  w: [ 0.00024193  0.12119116 -0.01191918]\n",
      "Epoch- 1  Data: [3 3]  Output: 0.5812867538956875  Error: 0.5812867538956875  w: [-0.00557093  0.10375256 -0.02935778]\n",
      "Epoch- 1  Data: [1 2]  Output: 0.5098652346112613  Error: 0.5098652346112613  w: [-0.01066959  0.09865391 -0.03955509]\n",
      "Epoch- 1  Data: [3 4]  Output: 0.5317252679725956  Error: 0.5317252679725956  w: [-0.01598684  0.08270215 -0.0608241 ]\n",
      "Epoch- 1  Data: [1 2]  Output: 0.48627023093315014  Error: 0.48627023093315014  w: [-0.02084954  0.07783945 -0.0705495 ]\n",
      "Epoch- 1  Data: [3 3]  Output: 0.5002550724460065  Error: 0.5002550724460065  w: [-0.02585209  0.06283179 -0.08555715]\n",
      "Epoch- 1  Data: [8 3]  Output: 0.5548115415302464  Error: -0.44518845846975363  w: [-0.02140021  0.09844687 -0.0722015 ]\n",
      "Epoch- 1  Data: [5 2]  Output: 0.5808907668600172  Error: -0.41910923313998283  w: [-0.01720911  0.11940233 -0.06381932]\n",
      "Epoch- 1  Data: [7 2]  Output: 0.6661823574508454  Error: -0.3338176425491546  w: [-0.01387094  0.14276957 -0.05714296]\n",
      "Epoch- 1  Data: [9 0]  Output: 0.7809233219014717  Error: -0.21907667809852827  w: [-0.01168017  0.16248647 -0.05714296]\n",
      "Epoch- 1  Data: [8 4]  Output: 0.7426216895968462  Error: -0.25737831040315384  w: [-0.00910639  0.18307673 -0.04684783]\n",
      "Weights: [ 0.18307673 -0.04684783]\n",
      "Bias: -0.009106387980436363\n",
      "Predict: [1. 1. 1. 1. 1. 1. 1. 1. 1. 1.]\n",
      "Accuracy: 0.5\n",
      "Confusion Matrix: (5, 0, 5, 0)\n",
      "Precision Recall: (0.5, 1.0)\n"
     ]
    },
    {
     "data": {
      "image/png": "[encoded data removed]",
      "text/plain": [
       "<Figure size 640x480 with 1 Axes>"
      ]
     },
     "metadata": {},
     "output_type": "display_data"
    }
   ],
   "source": [
    "import numpy as np\n",
    "import matplotlib.pyplot as plt\n",
    "\n",
    "class LogisticRegression:\n",
    "    def __init__(self, learning_rate=0.01, epochs=1000):\n",
    "        self.learning_rate = learning_rate\n",
    "        self.epochs = epochs\n",
    "        self.weights = None\n",
    "        self.bias = None\n",
    "    \n",
    "    def fit(self, X, y):\n",
    "        n_samples, n_features = X.shape\n",
    "        self.weights = np.zeros(n_features)\n",
    "        self.bias = 0\n",
    "        \n",
    "        for epoch in range(self.epochs):\n",
    "            for i in range(n_samples):\n",
    "                linear_model = np.dot(X[i], self.weights) + self.bias\n",
    "                y_predicted = self._sigmoid(linear_model)\n",
    "                \n",
    "                error = y_predicted - y[i]\n",
    "                dw = X[i] * error\n",
    "                db = error\n",
    "                \n",
    "                self.weights -= self.learning_rate * dw\n",
    "                self.bias -= self.learning_rate * db\n",
    "                \n",
    "                w = np.concatenate((np.array([self.bias]), self.weights))\n",
    "    \n",
    "                print('Epoch-', epoch, ' Data:', X[i], ' Output:', y_predicted, ' Error:', error, ' w:', w)\n",
    "    \n",
    "    def predict(self, X):\n",
    "        linear_model = np.dot(X, self.weights) + self.bias\n",
    "        y_predicted = self._sigmoid(linear_model)\n",
    "        return np.round(y_predicted)\n",
    "    \n",
    "    def _sigmoid(self, x):\n",
    "        return 1 / (1 + np.exp(-x))\n",
    "    \n",
    "    def _confusion_matrix(self, y_true, y_pred):\n",
    "        y_pred = self.predict(X)\n",
    "        tp = np.sum((y_true == 1) & (y_pred == 1))\n",
    "        tn = np.sum((y_true == 0) & (y_pred == 0))\n",
    "        fp = np.sum((y_true == 0) & (y_pred == 1))\n",
    "        fn = np.sum((y_true == 1) & (y_pred == 0))\n",
    "        return tp, tn, fp, fn\n",
    "    \n",
    "    def precision_recall(self, X, y_true):\n",
    "        y_pred = self.predict(X)\n",
    "        tp, tn, fp, fn = self._confusion_matrix(y_true, y_pred)\n",
    "        precision = tp / (tp + fp)\n",
    "        recall = tp / (tp + fn)\n",
    "        return precision, recall\n",
    "    \n",
    "    def accuracy(self, X, y_true):\n",
    "        y_pred = self.predict(X)\n",
    "        tp, tn, fp, fn = self._confusion_matrix(y_true, y_pred)\n",
    "        return (tp + tn) / (tp + tn + fp + fn)\n",
    "    \n",
    "    def display_model(self, X, y):\n",
    "        if X.shape[1] > 2:\n",
    "            print(\"Tidak dapat menampilkan model dengan lebih dari 2 fitur\")\n",
    "            return\n",
    "\n",
    "        x_values = X[:, 0]\n",
    "\n",
    "        plt.scatter(x_values, y)\n",
    "        plt.plot(x_values, self.predict(X), color='red')\n",
    "        plt.show()\n",
    "\n",
    "X = np.array([[3,3], [1,2], [3,4], [1,2], [3,3], [8,3], [5,2], [7,2], [9,0], [8,4]])\n",
    "Y = np.array([0, 0, 0, 0, 0, 1, 1, 1, 1, 1])\n",
    "logisticRegressionModel = LogisticRegression(epochs=2, learning_rate=0.01)\n",
    "logisticRegressionModel.fit(X, Y)\n",
    "print(\"Weights:\", logisticRegressionModel.weights)\n",
    "print(\"Bias:\", logisticRegressionModel.bias)\n",
    "print(\"Predict:\", logisticRegressionModel.predict(X))\n",
    "print(\"Accuracy:\", logisticRegressionModel.accuracy(X, Y))\n",
    "print(\"Confusion Matrix:\", logisticRegressionModel._confusion_matrix(Y, X))\n",
    "print(\"Precision Recall:\", logisticRegressionModel.precision_recall(X, Y))\n",
    "logisticRegressionModel.display_model(X, Y)\n"
   ]
  },
  {
   "cell_type": "markdown",
   "metadata": {},
   "source": [
    "Perhitungan Manual [link text](https://docs.google.com/spreadsheets/d/1OY7A0hPe7VuuLFaXexZsgeZQZCupeGW4eUVyQEtlQN4/edit?usp=sharing\n",
    ")"
   ]
  }
 ],
 "metadata": {
  "kernelspec": {
   "display_name": "Python 3",
   "language": "python",
   "name": "python3"
  },
  "language_info": {
   "codemirror_mode": {
    "name": "ipython",
    "version": 3
   },
   "file_extension": ".py",
   "mimetype": "text/x-python",
   "name": "python",
   "nbconvert_exporter": "python",
   "pygments_lexer": "ipython3",
   "version": "3.11.5"
  }
 },
 "nbformat": 4,
 "nbformat_minor": 2
}
